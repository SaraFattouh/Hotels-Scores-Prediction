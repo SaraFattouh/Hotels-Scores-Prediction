{
  "nbformat": 4,
  "nbformat_minor": 0,
  "metadata": {
    "kernelspec": {
      "display_name": "Python 3",
      "language": "python",
      "name": "python3"
    },
    "language_info": {
      "codemirror_mode": {
        "name": "ipython",
        "version": 3
      },
      "file_extension": ".py",
      "mimetype": "text/x-python",
      "name": "python",
      "nbconvert_exporter": "python",
      "pygments_lexer": "ipython3",
      "version": "3.7.4"
    },
    "colab": {
      "name": "Las Vegas Hotels - one hot encoded.ipynb",
      "provenance": [],
      "collapsed_sections": []
    }
  },
  "cells": [
    {
      "cell_type": "code",
      "metadata": {
        "id": "KLb_ymxEzYdc",
        "colab": {
          "base_uri": "https://localhost:8080/",
          "height": 72
        },
        "outputId": "4476e0fe-50fc-4d67-ba78-2a1e0f530b37"
      },
      "source": [
        "import matplotlib.pyplot as plt\n",
        "import matplotlib\n",
        "import numpy as np\n",
        "import pandas as pd\n",
        "from IPython.display import display\n",
        "import seaborn as sns\n",
        "%matplotlib inline"
      ],
      "execution_count": null,
      "outputs": [
        {
          "output_type": "stream",
          "text": [
            "/usr/local/lib/python3.6/dist-packages/statsmodels/tools/_testing.py:19: FutureWarning: pandas.util.testing is deprecated. Use the functions in the public API at pandas.testing instead.\n",
            "  import pandas.util.testing as tm\n"
          ],
          "name": "stderr"
        }
      ]
    },
    {
      "cell_type": "code",
      "metadata": {
        "id": "K43rVmsmzYdg"
      },
      "source": [
        "## Reading the dataset \n",
        "\n",
        "data = pd.read_csv('C:\\\\Users\\\\saraa\\\\Downloads\\\\ratings.csv')\n",
        "data.head()\n",
        "data.info()\n",
        "\n",
        "## convert to pandas Data Frame\n",
        "\n",
        "data = pd.DataFrame(data=data)"
      ],
      "execution_count": null,
      "outputs": []
    },
    {
      "cell_type": "code",
      "metadata": {
        "id": "mIrSq9EKzYdj",
        "outputId": "0c118744-9d01-496a-f6a3-281217761f57"
      },
      "source": [
        "data['User continent'].value_counts()"
      ],
      "execution_count": null,
      "outputs": [
        {
          "output_type": "execute_result",
          "data": {
            "text/plain": [
              "North America    232\n",
              "Europe           100\n",
              "Oceania           34\n",
              "Asia              29\n",
              "Africa             7\n",
              "South America      6\n",
              "Name: User continent, dtype: int64"
            ]
          },
          "metadata": {
            "tags": []
          },
          "execution_count": 248
        }
      ]
    },
    {
      "cell_type": "markdown",
      "metadata": {
        "id": "VVHPtq0VzYdl"
      },
      "source": [
        "## Data Visualization and Understanding"
      ]
    },
    {
      "cell_type": "markdown",
      "metadata": {
        "id": "J54QmFvFzYdl"
      },
      "source": [
        " Check Null values"
      ]
    },
    {
      "cell_type": "code",
      "metadata": {
        "id": "dMxg51SpzYdm",
        "outputId": "7b090328-df82-41e3-dd24-ac7632d3733a"
      },
      "source": [
        "sns.heatmap(data.isnull(),yticklabels=False,cbar=False,cmap='viridis')\n",
        "plt.grid()\n",
        "plt.title(\"Number of Missing Values\")"
      ],
      "execution_count": null,
      "outputs": [
        {
          "output_type": "execute_result",
          "data": {
            "text/plain": [
              "Text(0.5, 1, 'Number of Missing Values')"
            ]
          },
          "metadata": {
            "tags": []
          },
          "execution_count": 309
        },
        {
          "output_type": "display_data",
          "data": {
            "image/png": "[encoded data removed]",
            "text/plain": [
              "<Figure size 432x288 with 1 Axes>"
            ]
          },
          "metadata": {
            "tags": [],
            "needs_background": "light"
          }
        }
      ]
    },
    {
      "cell_type": "markdown",
      "metadata": {
        "id": "yO7oQCMpzYdo"
      },
      "source": [
        "A look on overall rating in Las Vegas"
      ]
    },
    {
      "cell_type": "code",
      "metadata": {
        "id": "9X19FiKXzYdo",
        "outputId": "af699c81-a52a-4071-d046-b72d72ab60d2"
      },
      "source": [
        "sns.countplot(x='Score',data=data)"
      ],
      "execution_count": null,
      "outputs": [
        {
          "output_type": "execute_result",
          "data": {
            "text/plain": [
              "<matplotlib.axes._subplots.AxesSubplot at 0x16f8a2d4708>"
            ]
          },
          "metadata": {
            "tags": []
          },
          "execution_count": 310
        },
        {
          "output_type": "display_data",
          "data": {
            "image/png": "[encoded data removed]",
            "text/plain": [
              "<Figure size 432x288 with 1 Axes>"
            ]
          },
          "metadata": {
            "tags": [],
            "needs_background": "light"
          }
        }
      ]
    },
    {
      "cell_type": "markdown",
      "metadata": {
        "id": "TOJ93P0XzYdq"
      },
      "source": [
        "A question relating score is about hotel star. \n",
        "Does a hotel with a higher star impress uesr more than a hotel with a lower star?\n"
      ]
    },
    {
      "cell_type": "code",
      "metadata": {
        "id": "snq0OSwVzYdr",
        "outputId": "d3f1143c-13e3-495b-c485-3e95bcba646f"
      },
      "source": [
        "sns.boxplot(x='Hotel stars',y='Score',data=data)"
      ],
      "execution_count": null,
      "outputs": [
        {
          "output_type": "execute_result",
          "data": {
            "text/plain": [
              "<matplotlib.axes._subplots.AxesSubplot at 0x16f8a1ae408>"
            ]
          },
          "metadata": {
            "tags": []
          },
          "execution_count": 311
        },
        {
          "output_type": "display_data",
          "data": {
            "image/png": "[encoded data removed]",
            "text/plain": [
              "<Figure size 432x288 with 1 Axes>"
            ]
          },
          "metadata": {
            "tags": [],
            "needs_background": "light"
          }
        }
      ]
    },
    {
      "cell_type": "markdown",
      "metadata": {
        "id": "vq98AMOMzYdt"
      },
      "source": [
        "Probably because all hotels are in Vegas, even hotels with lower hotel stars still provide good services to customers. Average score for each hotel star category is over 4. So there is no difference between hotels with higher stars and with lower stars\n",
        "\n",
        "Another possible point of view is regarding to facilities. In dataset, there are six variables about facilities, Pool,Gym,Tennis court ,Spa,Casino and Free internet. Let's have a look on whether providing these facilities can boost users' satisfaction."
      ]
    },
    {
      "cell_type": "code",
      "metadata": {
        "id": "N1o19DkfzYdu",
        "outputId": "dd75d181-14b4-4a49-fbe9-07ac0978eb81"
      },
      "source": [
        "facilities_list=['Pool','Gym','Tennis court','Spa','Casino','Free internet']\n",
        "for i in facilities_list:\n",
        "    plt.figure(figsize=(6,3))\n",
        "    sns.boxplot(x=i,y='Score',data=data)\n",
        "    plt.show()"
      ],
      "execution_count": null,
      "outputs": [
        {
          "output_type": "display_data",
          "data": {
            "image/png": "[encoded data removed]",
            "text/plain": [
              "<Figure size 432x216 with 1 Axes>"
            ]
          },
          "metadata": {
            "tags": [],
            "needs_background": "light"
          }
        },
        {
          "output_type": "display_data",
          "data": {
            "image/png": "[encoded data removed]",
            "text/plain": [
              "<Figure size 432x216 with 1 Axes>"
            ]
          },
          "metadata": {
            "tags": [],
            "needs_background": "light"
          }
        },
        {
          "output_type": "display_data",
          "data": {
            "image/png": "[encoded data removed]",
            "text/plain": [
              "<Figure size 432x216 with 1 Axes>"
            ]
          },
          "metadata": {
            "tags": [],
            "needs_background": "light"
          }
        },
        {
          "output_type": "display_data",
          "data": {
            "image/png": "[encoded data removed]",
            "text/plain": [
              "<Figure size 432x216 with 1 Axes>"
            ]
          },
          "metadata": {
            "tags": [],
            "needs_background": "light"
          }
        },
        {
          "output_type": "display_data",
          "data": {
            "image/png": "[encoded data removed]",
            "text/plain": [
              "<Figure size 432x216 with 1 Axes>"
            ]
          },
          "metadata": {
            "tags": [],
            "needs_background": "light"
          }
        },
        {
          "output_type": "display_data",
          "data": {
            "image/png": "[encoded data removed]",
            "text/plain": [
              "<Figure size 432x216 with 1 Axes>"
            ]
          },
          "metadata": {
            "tags": [],
            "needs_background": "light"
          }
        }
      ]
    },
    {
      "cell_type": "markdown",
      "metadata": {
        "id": "-gpLbKRYzYdw"
      },
      "source": [
        "There is a decrease on score for hotel without pool and free internet (why would people stay in hotels without free Wi-Fi?)\n",
        "\n",
        "Dataset also contains users' purpose of staying. We can also see if there is any correlation with their rating"
      ]
    },
    {
      "cell_type": "code",
      "metadata": {
        "id": "SKnQRQLXzYdw",
        "outputId": "54563fbd-a969-4988-caa6-58d20d213a93"
      },
      "source": [
        "sns.boxplot(x='Traveler type',y='Score',data=data)"
      ],
      "execution_count": null,
      "outputs": [
        {
          "output_type": "execute_result",
          "data": {
            "text/plain": [
              "<matplotlib.axes._subplots.AxesSubplot at 0x16f8bb82608>"
            ]
          },
          "metadata": {
            "tags": []
          },
          "execution_count": 313
        },
        {
          "output_type": "display_data",
          "data": {
            "image/png": "[encoded data removed]",
            "text/plain": [
              "<Figure size 432x288 with 1 Axes>"
            ]
          },
          "metadata": {
            "tags": [],
            "needs_background": "light"
          }
        }
      ]
    },
    {
      "cell_type": "markdown",
      "metadata": {
        "id": "uL874j50zYdy"
      },
      "source": [
        "We cannot notice any significant variance with different types of travellers."
      ]
    },
    {
      "cell_type": "markdown",
      "metadata": {
        "id": "lI6B_fdOzYdy"
      },
      "source": [
        "## Data Preprocessing"
      ]
    },
    {
      "cell_type": "markdown",
      "metadata": {
        "id": "6Uz_K7Q1zYdz"
      },
      "source": [
        "Mapping seasons in place of months "
      ]
    },
    {
      "cell_type": "code",
      "metadata": {
        "id": "Xd9OzDJ5zYdz"
      },
      "source": [
        "## Mapping seasons in place of months \n",
        "\n",
        "['Dec-Feb' 'Mar-May' 'Jun-Aug' 'Sep-Nov']\n",
        "data['Period of stay'] = data['Period of stay'].map(\n",
        "    {'Dec-Feb':'winter', 'Mar-May':'spring', \n",
        "     'Jun-Aug' :'summer','Sep-Nov':'autumn'})\n"
      ],
      "execution_count": null,
      "outputs": []
    },
    {
      "cell_type": "markdown",
      "metadata": {
        "id": "SrnuIQJlzYd1"
      },
      "source": [
        "Filling missing values"
      ]
    },
    {
      "cell_type": "code",
      "metadata": {
        "id": "jijhI45gzYd1"
      },
      "source": [
        "## Filling Missing Values \n",
        "\n",
        "data = data.apply(lambda x:x.fillna(x.value_counts().index[0]))"
      ],
      "execution_count": null,
      "outputs": []
    },
    {
      "cell_type": "markdown",
      "metadata": {
        "id": "TcfFHgEwzYd4"
      },
      "source": [
        "Scaling  numerical columns"
      ]
    },
    {
      "cell_type": "code",
      "metadata": {
        "id": "8TQsOTzXzYd5",
        "outputId": "4a34bbe9-e5e6-46d2-8428-593ba7bf519b"
      },
      "source": [
        "## Scaling only numerical columns\n",
        "\n",
        "from sklearn.preprocessing import MinMaxScaler\n",
        "columns_to_scale  = ['Nr. reviews', 'Nr. hotel reviews','Helpful votes','Hotel stars','Nr. rooms','Member years']\n",
        "\n",
        "scaler = MinMaxScaler()\n",
        "data[columns_to_scale] = scaler.fit_transform(data[columns_to_scale])\n",
        "\n",
        "data"
      ],
      "execution_count": null,
      "outputs": [
        {
          "output_type": "execute_result",
          "data": {
            "text/html": [
              "<div>\n",
              "<style scoped>\n",
              "    .dataframe tbody tr th:only-of-type {\n",
              "        vertical-align: middle;\n",
              "    }\n",
              "\n",
              "    .dataframe tbody tr th {\n",
              "        vertical-align: top;\n",
              "    }\n",
              "\n",
              "    .dataframe thead th {\n",
              "        text-align: right;\n",
              "    }\n",
              "</style>\n",
              "<table border=\"1\" class=\"dataframe\">\n",
              "  <thead>\n",
              "    <tr style=\"text-align: right;\">\n",
              "      <th></th>\n",
              "      <th>User country</th>\n",
              "      <th>Nr. reviews</th>\n",
              "      <th>Nr. hotel reviews</th>\n",
              "      <th>Helpful votes</th>\n",
              "      <th>Score</th>\n",
              "      <th>Period of stay</th>\n",
              "      <th>Traveler type</th>\n",
              "      <th>Pool</th>\n",
              "      <th>Gym</th>\n",
              "      <th>Tennis court</th>\n",
              "      <th>Spa</th>\n",
              "      <th>Casino</th>\n",
              "      <th>Free internet</th>\n",
              "      <th>Hotel name</th>\n",
              "      <th>Hotel stars</th>\n",
              "      <th>Nr. rooms</th>\n",
              "      <th>User continent</th>\n",
              "      <th>Member years</th>\n",
              "      <th>Review month</th>\n",
              "      <th>Review weekday</th>\n",
              "    </tr>\n",
              "  </thead>\n",
              "  <tbody>\n",
              "    <tr>\n",
              "      <td>0</td>\n",
              "      <td>USA</td>\n",
              "      <td>0.012920</td>\n",
              "      <td>0.015209</td>\n",
              "      <td>0.035616</td>\n",
              "      <td>5</td>\n",
              "      <td>winter</td>\n",
              "      <td>Friends</td>\n",
              "      <td>NO</td>\n",
              "      <td>YES</td>\n",
              "      <td>NO</td>\n",
              "      <td>NO</td>\n",
              "      <td>YES</td>\n",
              "      <td>YES</td>\n",
              "      <td>Circus Circus Hotel &amp; Casino Las Vegas</td>\n",
              "      <td>0.0</td>\n",
              "      <td>0.931573</td>\n",
              "      <td>North America</td>\n",
              "      <td>0.997801</td>\n",
              "      <td>January</td>\n",
              "      <td>Thursday</td>\n",
              "    </tr>\n",
              "    <tr>\n",
              "      <td>1</td>\n",
              "      <td>USA</td>\n",
              "      <td>0.152455</td>\n",
              "      <td>0.079848</td>\n",
              "      <td>0.205479</td>\n",
              "      <td>3</td>\n",
              "      <td>winter</td>\n",
              "      <td>Business</td>\n",
              "      <td>NO</td>\n",
              "      <td>YES</td>\n",
              "      <td>NO</td>\n",
              "      <td>NO</td>\n",
              "      <td>YES</td>\n",
              "      <td>YES</td>\n",
              "      <td>Circus Circus Hotel &amp; Casino Las Vegas</td>\n",
              "      <td>0.0</td>\n",
              "      <td>0.931573</td>\n",
              "      <td>North America</td>\n",
              "      <td>0.994502</td>\n",
              "      <td>January</td>\n",
              "      <td>Friday</td>\n",
              "    </tr>\n",
              "    <tr>\n",
              "      <td>2</td>\n",
              "      <td>USA</td>\n",
              "      <td>0.045220</td>\n",
              "      <td>0.034221</td>\n",
              "      <td>0.068493</td>\n",
              "      <td>5</td>\n",
              "      <td>spring</td>\n",
              "      <td>Families</td>\n",
              "      <td>NO</td>\n",
              "      <td>YES</td>\n",
              "      <td>NO</td>\n",
              "      <td>NO</td>\n",
              "      <td>YES</td>\n",
              "      <td>YES</td>\n",
              "      <td>Circus Circus Hotel &amp; Casino Las Vegas</td>\n",
              "      <td>0.0</td>\n",
              "      <td>0.931573</td>\n",
              "      <td>North America</td>\n",
              "      <td>0.993953</td>\n",
              "      <td>February</td>\n",
              "      <td>Saturday</td>\n",
              "    </tr>\n",
              "    <tr>\n",
              "      <td>3</td>\n",
              "      <td>UK</td>\n",
              "      <td>0.016796</td>\n",
              "      <td>0.026616</td>\n",
              "      <td>0.038356</td>\n",
              "      <td>4</td>\n",
              "      <td>spring</td>\n",
              "      <td>Friends</td>\n",
              "      <td>NO</td>\n",
              "      <td>YES</td>\n",
              "      <td>NO</td>\n",
              "      <td>NO</td>\n",
              "      <td>YES</td>\n",
              "      <td>YES</td>\n",
              "      <td>Circus Circus Hotel &amp; Casino Las Vegas</td>\n",
              "      <td>0.0</td>\n",
              "      <td>0.931573</td>\n",
              "      <td>Europe</td>\n",
              "      <td>0.996152</td>\n",
              "      <td>February</td>\n",
              "      <td>Friday</td>\n",
              "    </tr>\n",
              "    <tr>\n",
              "      <td>4</td>\n",
              "      <td>Canada</td>\n",
              "      <td>0.005168</td>\n",
              "      <td>0.019011</td>\n",
              "      <td>0.005479</td>\n",
              "      <td>4</td>\n",
              "      <td>spring</td>\n",
              "      <td>Solo</td>\n",
              "      <td>NO</td>\n",
              "      <td>YES</td>\n",
              "      <td>NO</td>\n",
              "      <td>NO</td>\n",
              "      <td>YES</td>\n",
              "      <td>YES</td>\n",
              "      <td>Circus Circus Hotel &amp; Casino Las Vegas</td>\n",
              "      <td>0.0</td>\n",
              "      <td>0.931573</td>\n",
              "      <td>North America</td>\n",
              "      <td>0.996701</td>\n",
              "      <td>March</td>\n",
              "      <td>Tuesday</td>\n",
              "    </tr>\n",
              "    <tr>\n",
              "      <td>...</td>\n",
              "      <td>...</td>\n",
              "      <td>...</td>\n",
              "      <td>...</td>\n",
              "      <td>...</td>\n",
              "      <td>...</td>\n",
              "      <td>...</td>\n",
              "      <td>...</td>\n",
              "      <td>...</td>\n",
              "      <td>...</td>\n",
              "      <td>...</td>\n",
              "      <td>...</td>\n",
              "      <td>...</td>\n",
              "      <td>...</td>\n",
              "      <td>...</td>\n",
              "      <td>...</td>\n",
              "      <td>...</td>\n",
              "      <td>...</td>\n",
              "      <td>...</td>\n",
              "      <td>...</td>\n",
              "      <td>...</td>\n",
              "    </tr>\n",
              "    <tr>\n",
              "      <td>499</td>\n",
              "      <td>UK</td>\n",
              "      <td>0.018088</td>\n",
              "      <td>0.015209</td>\n",
              "      <td>0.021918</td>\n",
              "      <td>5</td>\n",
              "      <td>autumn</td>\n",
              "      <td>Couples</td>\n",
              "      <td>YES</td>\n",
              "      <td>YES</td>\n",
              "      <td>NO</td>\n",
              "      <td>YES</td>\n",
              "      <td>YES</td>\n",
              "      <td>YES</td>\n",
              "      <td>The Westin las Vegas Hotel Casino &amp; Spa</td>\n",
              "      <td>0.5</td>\n",
              "      <td>0.137662</td>\n",
              "      <td>Europe</td>\n",
              "      <td>0.993403</td>\n",
              "      <td>October</td>\n",
              "      <td>Sunday</td>\n",
              "    </tr>\n",
              "    <tr>\n",
              "      <td>500</td>\n",
              "      <td>Canada</td>\n",
              "      <td>0.063307</td>\n",
              "      <td>0.049430</td>\n",
              "      <td>0.079452</td>\n",
              "      <td>4</td>\n",
              "      <td>autumn</td>\n",
              "      <td>Couples</td>\n",
              "      <td>YES</td>\n",
              "      <td>YES</td>\n",
              "      <td>NO</td>\n",
              "      <td>YES</td>\n",
              "      <td>YES</td>\n",
              "      <td>YES</td>\n",
              "      <td>The Westin las Vegas Hotel Casino &amp; Spa</td>\n",
              "      <td>0.5</td>\n",
              "      <td>0.137662</td>\n",
              "      <td>North America</td>\n",
              "      <td>0.997251</td>\n",
              "      <td>November</td>\n",
              "      <td>Thursday</td>\n",
              "    </tr>\n",
              "    <tr>\n",
              "      <td>501</td>\n",
              "      <td>USA</td>\n",
              "      <td>0.197674</td>\n",
              "      <td>0.087452</td>\n",
              "      <td>0.084932</td>\n",
              "      <td>4</td>\n",
              "      <td>autumn</td>\n",
              "      <td>Friends</td>\n",
              "      <td>YES</td>\n",
              "      <td>YES</td>\n",
              "      <td>NO</td>\n",
              "      <td>YES</td>\n",
              "      <td>YES</td>\n",
              "      <td>YES</td>\n",
              "      <td>The Westin las Vegas Hotel Casino &amp; Spa</td>\n",
              "      <td>0.5</td>\n",
              "      <td>0.137662</td>\n",
              "      <td>North America</td>\n",
              "      <td>0.995052</td>\n",
              "      <td>November</td>\n",
              "      <td>Thursday</td>\n",
              "    </tr>\n",
              "    <tr>\n",
              "      <td>502</td>\n",
              "      <td>USA</td>\n",
              "      <td>0.010336</td>\n",
              "      <td>0.022814</td>\n",
              "      <td>0.013699</td>\n",
              "      <td>2</td>\n",
              "      <td>winter</td>\n",
              "      <td>Families</td>\n",
              "      <td>YES</td>\n",
              "      <td>YES</td>\n",
              "      <td>NO</td>\n",
              "      <td>YES</td>\n",
              "      <td>YES</td>\n",
              "      <td>YES</td>\n",
              "      <td>The Westin las Vegas Hotel Casino &amp; Spa</td>\n",
              "      <td>0.5</td>\n",
              "      <td>0.137662</td>\n",
              "      <td>North America</td>\n",
              "      <td>0.997801</td>\n",
              "      <td>December</td>\n",
              "      <td>Wednesday</td>\n",
              "    </tr>\n",
              "    <tr>\n",
              "      <td>503</td>\n",
              "      <td>USA</td>\n",
              "      <td>0.024548</td>\n",
              "      <td>0.072243</td>\n",
              "      <td>0.306849</td>\n",
              "      <td>4</td>\n",
              "      <td>winter</td>\n",
              "      <td>Families</td>\n",
              "      <td>YES</td>\n",
              "      <td>YES</td>\n",
              "      <td>NO</td>\n",
              "      <td>YES</td>\n",
              "      <td>YES</td>\n",
              "      <td>YES</td>\n",
              "      <td>The Westin las Vegas Hotel Casino &amp; Spa</td>\n",
              "      <td>0.5</td>\n",
              "      <td>0.137662</td>\n",
              "      <td>North America</td>\n",
              "      <td>0.995602</td>\n",
              "      <td>December</td>\n",
              "      <td>Tuesday</td>\n",
              "    </tr>\n",
              "  </tbody>\n",
              "</table>\n",
              "<p>504 rows × 20 columns</p>\n",
              "</div>"
            ],
            "text/plain": [
              "    User country  Nr. reviews  Nr. hotel reviews  Helpful votes  Score  \\\n",
              "0            USA     0.012920           0.015209       0.035616      5   \n",
              "1            USA     0.152455           0.079848       0.205479      3   \n",
              "2            USA     0.045220           0.034221       0.068493      5   \n",
              "3             UK     0.016796           0.026616       0.038356      4   \n",
              "4         Canada     0.005168           0.019011       0.005479      4   \n",
              "..           ...          ...                ...            ...    ...   \n",
              "499           UK     0.018088           0.015209       0.021918      5   \n",
              "500       Canada     0.063307           0.049430       0.079452      4   \n",
              "501          USA     0.197674           0.087452       0.084932      4   \n",
              "502          USA     0.010336           0.022814       0.013699      2   \n",
              "503          USA     0.024548           0.072243       0.306849      4   \n",
              "\n",
              "    Period of stay Traveler type Pool  Gym Tennis court  Spa Casino  \\\n",
              "0           winter       Friends   NO  YES           NO   NO    YES   \n",
              "1           winter      Business   NO  YES           NO   NO    YES   \n",
              "2           spring      Families   NO  YES           NO   NO    YES   \n",
              "3           spring       Friends   NO  YES           NO   NO    YES   \n",
              "4           spring          Solo   NO  YES           NO   NO    YES   \n",
              "..             ...           ...  ...  ...          ...  ...    ...   \n",
              "499         autumn       Couples  YES  YES           NO  YES    YES   \n",
              "500         autumn       Couples  YES  YES           NO  YES    YES   \n",
              "501         autumn       Friends  YES  YES           NO  YES    YES   \n",
              "502         winter      Families  YES  YES           NO  YES    YES   \n",
              "503         winter      Families  YES  YES           NO  YES    YES   \n",
              "\n",
              "    Free internet                               Hotel name  Hotel stars  \\\n",
              "0             YES   Circus Circus Hotel & Casino Las Vegas          0.0   \n",
              "1             YES   Circus Circus Hotel & Casino Las Vegas          0.0   \n",
              "2             YES   Circus Circus Hotel & Casino Las Vegas          0.0   \n",
              "3             YES   Circus Circus Hotel & Casino Las Vegas          0.0   \n",
              "4             YES   Circus Circus Hotel & Casino Las Vegas          0.0   \n",
              "..            ...                                      ...          ...   \n",
              "499           YES  The Westin las Vegas Hotel Casino & Spa          0.5   \n",
              "500           YES  The Westin las Vegas Hotel Casino & Spa          0.5   \n",
              "501           YES  The Westin las Vegas Hotel Casino & Spa          0.5   \n",
              "502           YES  The Westin las Vegas Hotel Casino & Spa          0.5   \n",
              "503           YES  The Westin las Vegas Hotel Casino & Spa          0.5   \n",
              "\n",
              "     Nr. rooms User continent  Member years Review month Review weekday  \n",
              "0     0.931573  North America      0.997801      January       Thursday  \n",
              "1     0.931573  North America      0.994502      January         Friday  \n",
              "2     0.931573  North America      0.993953     February       Saturday  \n",
              "3     0.931573         Europe      0.996152     February         Friday  \n",
              "4     0.931573  North America      0.996701        March        Tuesday  \n",
              "..         ...            ...           ...          ...            ...  \n",
              "499   0.137662         Europe      0.993403      October         Sunday  \n",
              "500   0.137662  North America      0.997251     November       Thursday  \n",
              "501   0.137662  North America      0.995052     November       Thursday  \n",
              "502   0.137662  North America      0.997801     December      Wednesday  \n",
              "503   0.137662  North America      0.995602     December        Tuesday  \n",
              "\n",
              "[504 rows x 20 columns]"
            ]
          },
          "metadata": {
            "tags": []
          },
          "execution_count": 316
        }
      ]
    },
    {
      "cell_type": "markdown",
      "metadata": {
        "id": "kzGMMsu-zYd8"
      },
      "source": [
        " Converting categorical features to  one hot encoding"
      ]
    },
    {
      "cell_type": "code",
      "metadata": {
        "id": "eBEm4hWVzYd8",
        "outputId": "3c7b78f3-e52c-4ef7-881b-56e295dac4cf"
      },
      "source": [
        "## Encoding categorical features with one hot encoding\n",
        "\n",
        "from sklearn.preprocessing import LabelEncoder, OneHotEncoder\n",
        "\n",
        "onehotencoder = OneHotEncoder()\n",
        "enc = OneHotEncoder(handle_unknown='ignore')\n",
        "data = pd.get_dummies(data, columns=['Period of stay', 'User country','Traveler type', 'Pool','Gym','Tennis court','Spa','Casino','Free internet','Hotel name','User continent','Review month','Review weekday'], drop_first=True)\n",
        "\n",
        "data.head()"
      ],
      "execution_count": null,
      "outputs": [
        {
          "output_type": "execute_result",
          "data": {
            "text/html": [
              "<div>\n",
              "<style scoped>\n",
              "    .dataframe tbody tr th:only-of-type {\n",
              "        vertical-align: middle;\n",
              "    }\n",
              "\n",
              "    .dataframe tbody tr th {\n",
              "        vertical-align: top;\n",
              "    }\n",
              "\n",
              "    .dataframe thead th {\n",
              "        text-align: right;\n",
              "    }\n",
              "</style>\n",
              "<table border=\"1\" class=\"dataframe\">\n",
              "  <thead>\n",
              "    <tr style=\"text-align: right;\">\n",
              "      <th></th>\n",
              "      <th>Nr. reviews</th>\n",
              "      <th>Nr. hotel reviews</th>\n",
              "      <th>Helpful votes</th>\n",
              "      <th>Score</th>\n",
              "      <th>Hotel stars</th>\n",
              "      <th>Nr. rooms</th>\n",
              "      <th>Member years</th>\n",
              "      <th>Period of stay_spring</th>\n",
              "      <th>Period of stay_summer</th>\n",
              "      <th>Period of stay_winter</th>\n",
              "      <th>...</th>\n",
              "      <th>Review month_May</th>\n",
              "      <th>Review month_November</th>\n",
              "      <th>Review month_October</th>\n",
              "      <th>Review month_September</th>\n",
              "      <th>Review weekday_Monday</th>\n",
              "      <th>Review weekday_Saturday</th>\n",
              "      <th>Review weekday_Sunday</th>\n",
              "      <th>Review weekday_Thursday</th>\n",
              "      <th>Review weekday_Tuesday</th>\n",
              "      <th>Review weekday_Wednesday</th>\n",
              "    </tr>\n",
              "  </thead>\n",
              "  <tbody>\n",
              "    <tr>\n",
              "      <td>0</td>\n",
              "      <td>0.012920</td>\n",
              "      <td>0.015209</td>\n",
              "      <td>0.035616</td>\n",
              "      <td>5</td>\n",
              "      <td>0.0</td>\n",
              "      <td>0.931573</td>\n",
              "      <td>0.997801</td>\n",
              "      <td>0</td>\n",
              "      <td>0</td>\n",
              "      <td>1</td>\n",
              "      <td>...</td>\n",
              "      <td>0</td>\n",
              "      <td>0</td>\n",
              "      <td>0</td>\n",
              "      <td>0</td>\n",
              "      <td>0</td>\n",
              "      <td>0</td>\n",
              "      <td>0</td>\n",
              "      <td>1</td>\n",
              "      <td>0</td>\n",
              "      <td>0</td>\n",
              "    </tr>\n",
              "    <tr>\n",
              "      <td>1</td>\n",
              "      <td>0.152455</td>\n",
              "      <td>0.079848</td>\n",
              "      <td>0.205479</td>\n",
              "      <td>3</td>\n",
              "      <td>0.0</td>\n",
              "      <td>0.931573</td>\n",
              "      <td>0.994502</td>\n",
              "      <td>0</td>\n",
              "      <td>0</td>\n",
              "      <td>1</td>\n",
              "      <td>...</td>\n",
              "      <td>0</td>\n",
              "      <td>0</td>\n",
              "      <td>0</td>\n",
              "      <td>0</td>\n",
              "      <td>0</td>\n",
              "      <td>0</td>\n",
              "      <td>0</td>\n",
              "      <td>0</td>\n",
              "      <td>0</td>\n",
              "      <td>0</td>\n",
              "    </tr>\n",
              "    <tr>\n",
              "      <td>2</td>\n",
              "      <td>0.045220</td>\n",
              "      <td>0.034221</td>\n",
              "      <td>0.068493</td>\n",
              "      <td>5</td>\n",
              "      <td>0.0</td>\n",
              "      <td>0.931573</td>\n",
              "      <td>0.993953</td>\n",
              "      <td>1</td>\n",
              "      <td>0</td>\n",
              "      <td>0</td>\n",
              "      <td>...</td>\n",
              "      <td>0</td>\n",
              "      <td>0</td>\n",
              "      <td>0</td>\n",
              "      <td>0</td>\n",
              "      <td>0</td>\n",
              "      <td>1</td>\n",
              "      <td>0</td>\n",
              "      <td>0</td>\n",
              "      <td>0</td>\n",
              "      <td>0</td>\n",
              "    </tr>\n",
              "    <tr>\n",
              "      <td>3</td>\n",
              "      <td>0.016796</td>\n",
              "      <td>0.026616</td>\n",
              "      <td>0.038356</td>\n",
              "      <td>4</td>\n",
              "      <td>0.0</td>\n",
              "      <td>0.931573</td>\n",
              "      <td>0.996152</td>\n",
              "      <td>1</td>\n",
              "      <td>0</td>\n",
              "      <td>0</td>\n",
              "      <td>...</td>\n",
              "      <td>0</td>\n",
              "      <td>0</td>\n",
              "      <td>0</td>\n",
              "      <td>0</td>\n",
              "      <td>0</td>\n",
              "      <td>0</td>\n",
              "      <td>0</td>\n",
              "      <td>0</td>\n",
              "      <td>0</td>\n",
              "      <td>0</td>\n",
              "    </tr>\n",
              "    <tr>\n",
              "      <td>4</td>\n",
              "      <td>0.005168</td>\n",
              "      <td>0.019011</td>\n",
              "      <td>0.005479</td>\n",
              "      <td>4</td>\n",
              "      <td>0.0</td>\n",
              "      <td>0.931573</td>\n",
              "      <td>0.996701</td>\n",
              "      <td>1</td>\n",
              "      <td>0</td>\n",
              "      <td>0</td>\n",
              "      <td>...</td>\n",
              "      <td>0</td>\n",
              "      <td>0</td>\n",
              "      <td>0</td>\n",
              "      <td>0</td>\n",
              "      <td>0</td>\n",
              "      <td>0</td>\n",
              "      <td>0</td>\n",
              "      <td>0</td>\n",
              "      <td>1</td>\n",
              "      <td>0</td>\n",
              "    </tr>\n",
              "  </tbody>\n",
              "</table>\n",
              "<p>5 rows × 109 columns</p>\n",
              "</div>"
            ],
            "text/plain": [
              "   Nr. reviews  Nr. hotel reviews  Helpful votes  Score  Hotel stars  \\\n",
              "0     0.012920           0.015209       0.035616      5          0.0   \n",
              "1     0.152455           0.079848       0.205479      3          0.0   \n",
              "2     0.045220           0.034221       0.068493      5          0.0   \n",
              "3     0.016796           0.026616       0.038356      4          0.0   \n",
              "4     0.005168           0.019011       0.005479      4          0.0   \n",
              "\n",
              "   Nr. rooms  Member years  Period of stay_spring  Period of stay_summer  \\\n",
              "0   0.931573      0.997801                      0                      0   \n",
              "1   0.931573      0.994502                      0                      0   \n",
              "2   0.931573      0.993953                      1                      0   \n",
              "3   0.931573      0.996152                      1                      0   \n",
              "4   0.931573      0.996701                      1                      0   \n",
              "\n",
              "   Period of stay_winter  ...  Review month_May  Review month_November  \\\n",
              "0                      1  ...                 0                      0   \n",
              "1                      1  ...                 0                      0   \n",
              "2                      0  ...                 0                      0   \n",
              "3                      0  ...                 0                      0   \n",
              "4                      0  ...                 0                      0   \n",
              "\n",
              "   Review month_October  Review month_September  Review weekday_Monday  \\\n",
              "0                     0                       0                      0   \n",
              "1                     0                       0                      0   \n",
              "2                     0                       0                      0   \n",
              "3                     0                       0                      0   \n",
              "4                     0                       0                      0   \n",
              "\n",
              "   Review weekday_Saturday  Review weekday_Sunday  Review weekday_Thursday  \\\n",
              "0                        0                      0                        1   \n",
              "1                        0                      0                        0   \n",
              "2                        1                      0                        0   \n",
              "3                        0                      0                        0   \n",
              "4                        0                      0                        0   \n",
              "\n",
              "   Review weekday_Tuesday  Review weekday_Wednesday  \n",
              "0                       0                         0  \n",
              "1                       0                         0  \n",
              "2                       0                         0  \n",
              "3                       0                         0  \n",
              "4                       1                         0  \n",
              "\n",
              "[5 rows x 109 columns]"
            ]
          },
          "metadata": {
            "tags": []
          },
          "execution_count": 317
        }
      ]
    },
    {
      "cell_type": "markdown",
      "metadata": {
        "id": "M_nc2kVmzYd-"
      },
      "source": [
        "## Prepair train and test sets\n"
      ]
    },
    {
      "cell_type": "code",
      "metadata": {
        "id": "h_gEXdgrzYd_"
      },
      "source": [
        "## prepare train and test sets\n",
        "\n",
        "from sklearn.model_selection import train_test_split\n",
        "\n",
        "X = data.drop(['Score'], axis=1) ## remove score label from data\n",
        "y = data['Score']\n",
        "\n",
        "X_train, X_test, y_train, y_test = train_test_split(X, y, test_size=0.1, random_state=42)"
      ],
      "execution_count": null,
      "outputs": []
    },
    {
      "cell_type": "markdown",
      "metadata": {
        "id": "hzGVpYbTzYeB"
      },
      "source": [
        "## Models Training"
      ]
    },
    {
      "cell_type": "code",
      "metadata": {
        "scrolled": true,
        "id": "c8Y6rO-tzYeC",
        "outputId": "a5aef03a-943b-4269-db47-acb641feda30"
      },
      "source": [
        "##Train Random Forest Model \n",
        "\n",
        "from sklearn.ensemble import RandomForestClassifier\n",
        "from sklearn.metrics import accuracy_score\n",
        "\n",
        "scores_train = []\n",
        "scores_test = []\n",
        "\n",
        "clf = RandomForestClassifier(n_estimators =100, max_depth=10, min_samples_leaf=2)\n",
        "clf.fit(X_train, y_train)\n",
        "\n",
        "# Predict the response for test dataset\n",
        "scores_train.append(clf.score(X_train,y_train))\n",
        "scores_test.append(logisitic_regression.score(X_test,y_test))\n",
        "\n",
        "\n",
        "y_pred = clf.predict(X_test)\n",
        "\n",
        "print(\"Average Accuracy on trainset:\", round(np.mean(scores_train),2))\n",
        "print('Average Accuracy on Test Data: ',round(np.mean(scores_test),2))\n",
        "\n",
        "print(\"Accuracy:\", round(accuracy_score(y_test, y_pred),2))\n"
      ],
      "execution_count": null,
      "outputs": [
        {
          "output_type": "stream",
          "text": [
            "Average Accuracy on trainset: 0.74\n",
            "Average Accuracy on Test Data:  0.45\n",
            "Accuracy: 0.53\n"
          ],
          "name": "stdout"
        }
      ]
    },
    {
      "cell_type": "code",
      "metadata": {
        "id": "bglERz46zYeD",
        "outputId": "4cad7fa0-e08e-42d0-f895-39e3f72a5161"
      },
      "source": [
        "## Train Decision Tree Model\n",
        "\n",
        "from sklearn.tree import DecisionTreeClassifier\n",
        "from sklearn.metrics import accuracy_score\n",
        "\n",
        "scores_train = []\n",
        "scores_test = []\n",
        "\n",
        "DT = DecisionTreeClassifier(criterion=\"entropy\", max_depth=10)\n",
        "DT = DT.fit(X_train, y_train)\n",
        "\n",
        "# Predict the response for test dataset\n",
        "scores_train.append(DT.score(X_train,y_train))\n",
        "scores_test.append(DT.score(X_test,y_test))\n",
        "\n",
        "# Predict the response for test dataset\n",
        "\n",
        "y_pred = DT.predict(X_test)\n",
        "\n",
        "\n",
        "print(\"Average Accuracy on trainset:\", round(np.mean(scores_train),2))\n",
        "print('Average Accuracy on Test Data: ',round(np.mean(scores_test),2))\n",
        "\n",
        "print(\"Accuracy:\", round(accuracy_score(y_test, y_pred),2))"
      ],
      "execution_count": null,
      "outputs": [
        {
          "output_type": "stream",
          "text": [
            "Average Accuracy on trainset: 0.83\n",
            "Average Accuracy on Test Data:  0.43\n",
            "Accuracy: 0.43\n"
          ],
          "name": "stdout"
        }
      ]
    },
    {
      "cell_type": "code",
      "metadata": {
        "id": "65G9yOz-zYeG",
        "outputId": "16f12171-02d8-4d67-cb48-37469a347d0f"
      },
      "source": [
        "## Train SVC Model \n",
        "\n",
        "from sklearn.svm import LinearSVC\n",
        "from sklearn import svm\n",
        "from sklearn.metrics import accuracy_score\n",
        "\n",
        "scores_train = []\n",
        "scores_test = []\n",
        "\n",
        "svc = svm.SVC(kernel = 'rbf', gamma = 1000, C = 100)\n",
        "svc.fit(X_train, y_train)\n",
        "\n",
        "\n",
        "scores_train.append(svc.score(X_train,y_train))\n",
        "scores_test.append(svc.score(X_test,y_test))\n",
        "\n",
        "# Predict the response for test dataset\n",
        "\n",
        "print(\"Average Accuracy on trainset:\", round(np.mean(scores_train),2))\n",
        "print('Average Accuracy on Test Data: ',round(np.mean(scores_test),2))\n",
        "y_pred = svc.predict(X_test)\n",
        "\n",
        "print(\"Accuracy:\", round(accuracy_score(y_test, y_pred),2))"
      ],
      "execution_count": null,
      "outputs": [
        {
          "output_type": "stream",
          "text": [
            "Average Accuracy on trainset: 1.0\n",
            "Average Accuracy on Test Data:  0.47\n",
            "Accuracy: 0.47\n"
          ],
          "name": "stdout"
        }
      ]
    },
    {
      "cell_type": "code",
      "metadata": {
        "id": "KL7OmCAazYeI",
        "outputId": "8f1cf550-700e-4364-eefb-ac5b63d6a971"
      },
      "source": [
        "#### Train KNN Classifer\n",
        "\n",
        "from sklearn.neighbors import KNeighborsClassifier\n",
        "from sklearn import metrics\n",
        "from sklearn.metrics import accuracy_score\n",
        "\n",
        "scores_train = []\n",
        "scores_test = []\n",
        "\n",
        "knn = KNeighborsClassifier(n_neighbors = 5, p = 2)\n",
        "knn.fit(X_train, y_train)\n",
        "\n",
        "scores_train.append(knn.score(X_train,y_train))\n",
        "scores_test.append(knn.score(X_test,y_test))\n",
        "\n",
        "# Predict the response for test dataset\n",
        "y_pred = knn.predict(X_test)\n",
        "\n",
        "print(\"Average Accuracy on trainset:\", round(np.mean(scores_train),4))\n",
        "print('Average Accuracy on Test Data: ',round(np.mean(scores_test),4))\n",
        "\n",
        "print(\"Accuracy:\", round(metrics.accuracy_score(y_test, y_pred),2))\n"
      ],
      "execution_count": null,
      "outputs": [
        {
          "output_type": "stream",
          "text": [
            "Average Accuracy on trainset: 0.5938\n",
            "Average Accuracy on Test Data:  0.451\n",
            "Accuracy: 0.45\n"
          ],
          "name": "stdout"
        }
      ]
    },
    {
      "cell_type": "code",
      "metadata": {
        "id": "Yu_L5C71zYeL",
        "outputId": "2bebaec8-74bc-44d2-bc49-817efc85e8c7"
      },
      "source": [
        "import sys\n",
        "!{sys.executable} -m pip install xgboost"
      ],
      "execution_count": null,
      "outputs": [
        {
          "output_type": "stream",
          "text": [
            "Requirement already satisfied: xgboost in c:\\users\\saraa\\anaconda3\\lib\\site-packages (1.0.2)\n",
            "Requirement already satisfied: numpy in c:\\users\\saraa\\anaconda3\\lib\\site-packages (from xgboost) (1.16.5)\n",
            "Requirement already satisfied: scipy in c:\\users\\saraa\\anaconda3\\lib\\site-packages (from xgboost) (1.3.1)\n"
          ],
          "name": "stdout"
        },
        {
          "output_type": "stream",
          "text": [
            "WARNING: You are using pip version 20.0.2; however, version 20.1 is available.\n",
            "You should consider upgrading via the 'C:\\Users\\saraa\\Anaconda3\\python.exe -m pip install --upgrade pip' command.\n"
          ],
          "name": "stderr"
        }
      ]
    },
    {
      "cell_type": "code",
      "metadata": {
        "id": "AIj-ZqGvzYeM",
        "outputId": "eac387b5-bdca-4675-82e4-8c560bba6fda"
      },
      "source": [
        "## Train XGboost Model\n",
        "\n",
        "import xgboost as xgb\n",
        "from sklearn.metrics import accuracy_score\n",
        "\n",
        "scores_train = []\n",
        "scores_test = []\n",
        "\n",
        "\n",
        "xg = xgb.XGBClassifier(booster = 'gbtree', max_depth = 6, n_estimators=100)\n",
        "xg.fit(X_train, y_train)\n",
        "\n",
        "scores_train.append(xg.score(X_train,y_train))\n",
        "scores_test.append(xg.score(X_test,y_test))\n",
        "\n",
        "# Predict the response for test dataset\n",
        "\n",
        "print(\"Average Accuracy on trainset:\", round(np.mean(scores_train),2))\n",
        "print('Average Accuracy on Test Data: ',round(np.mean(scores_test),2))\n",
        "\n",
        "y_pred = xg.predict(X_test)\n",
        "print(\"Accuracy:\", round( metrics.accuracy_score(y_test, y_pred),2))"
      ],
      "execution_count": null,
      "outputs": [
        {
          "output_type": "stream",
          "text": [
            "Average Accuracy on trainset: 1.0\n",
            "Average Accuracy on Test Data:  0.53\n",
            "Accuracy: 0.53\n"
          ],
          "name": "stdout"
        }
      ]
    },
    {
      "cell_type": "code",
      "metadata": {
        "id": "j-tywq4jzYeO"
      },
      "source": [
        "# prepare models\n",
        "models = []\n",
        "models.append(('RF', RandomForestClassifier()))\n",
        "models.append(('DT', DecisionTreeClassifier()))\n",
        "models.append(('SVC', svm.SVC()))\n",
        "models.append(('KNN', KNeighborsClassifier()))\n",
        "#models.append(('Logistic Regression', LogisticRegression()))\n",
        "models.append(('xgboost',  xgb.XGBClassifier()))"
      ],
      "execution_count": null,
      "outputs": []
    },
    {
      "cell_type": "code",
      "metadata": {
        "id": "N0ZTxw_IzYeQ",
        "outputId": "3102b0d6-ea95-4e0c-c7ed-3b778516e980"
      },
      "source": [
        "# evaluate each model in turn Mean accuracy  & standard deviation accuracy\n",
        "from sklearn import model_selection\n",
        "results = []\n",
        "names = []\n",
        "scoring = 'accuracy'\n",
        "print('Model         Mean accuracy     (Accuracy std)')\n",
        "for name, model in models:\n",
        "    kfold = model_selection.KFold(n_splits=2, random_state=None)\n",
        "    cv_results = model_selection.cross_val_score(model, X, y, cv=kfold, scoring=scoring)\n",
        "    results.append(cv_results)\n",
        "\n",
        "    names.append(name)\n",
        "    msg = \"%s:            %f         (%f)\" % (name, cv_results.mean(), cv_results.std())\n",
        "    print(msg)"
      ],
      "execution_count": null,
      "outputs": [
        {
          "output_type": "stream",
          "text": [
            "Model         Mean accuracy     (Accuracy std)\n",
            "RF:            0.398810         (0.033730)\n",
            "DT:            0.400794         (0.003968)\n",
            "SVC:            0.450397         (0.041667)\n",
            "KNN:            0.386905         (0.029762)\n"
          ],
          "name": "stdout"
        },
        {
          "output_type": "stream",
          "text": [
            "C:\\Users\\saraa\\Anaconda3\\lib\\site-packages\\sklearn\\ensemble\\forest.py:245: FutureWarning: The default value of n_estimators will change from 10 in version 0.20 to 100 in 0.22.\n",
            "  \"10 in version 0.20 to 100 in 0.22.\", FutureWarning)\n",
            "C:\\Users\\saraa\\Anaconda3\\lib\\site-packages\\sklearn\\ensemble\\forest.py:245: FutureWarning: The default value of n_estimators will change from 10 in version 0.20 to 100 in 0.22.\n",
            "  \"10 in version 0.20 to 100 in 0.22.\", FutureWarning)\n",
            "C:\\Users\\saraa\\Anaconda3\\lib\\site-packages\\sklearn\\svm\\base.py:193: FutureWarning: The default value of gamma will change from 'auto' to 'scale' in version 0.22 to account better for unscaled features. Set gamma explicitly to 'auto' or 'scale' to avoid this warning.\n",
            "  \"avoid this warning.\", FutureWarning)\n",
            "C:\\Users\\saraa\\Anaconda3\\lib\\site-packages\\sklearn\\svm\\base.py:193: FutureWarning: The default value of gamma will change from 'auto' to 'scale' in version 0.22 to account better for unscaled features. Set gamma explicitly to 'auto' or 'scale' to avoid this warning.\n",
            "  \"avoid this warning.\", FutureWarning)\n"
          ],
          "name": "stderr"
        },
        {
          "output_type": "stream",
          "text": [
            "xgboost:            0.375000         (0.005952)\n"
          ],
          "name": "stdout"
        }
      ]
    },
    {
      "cell_type": "code",
      "metadata": {
        "id": "Pn5nsFVczYeR",
        "outputId": "00c1f4e7-9226-4b7c-eeec-94240a78f8c8"
      },
      "source": [
        "\n",
        "fig = plt.figure()\n",
        "fig.suptitle('Algorithms Comparison')\n",
        "ax = fig.add_subplot()\n",
        "plt.boxplot(results)\n",
        "ax.set_xticklabels(names)\n",
        "plt.show()"
      ],
      "execution_count": null,
      "outputs": [
        {
          "output_type": "display_data",
          "data": {
            "image/png": "[encoded data removed]",
            "text/plain": [
              "<Figure size 432x288 with 1 Axes>"
            ]
          },
          "metadata": {
            "tags": [],
            "needs_background": "light"
          }
        }
      ]
    },
    {
      "cell_type": "code",
      "metadata": {
        "id": "5IXcqe46zYeT"
      },
      "source": [
        "from sklearn.decomposition import PCA as sklearnPCA\n",
        "pca = sklearnPCA(n_components=12) #12-dimensional PCA\n",
        "transformed = pd.DataFrame(pca.fit_transform(X))"
      ],
      "execution_count": null,
      "outputs": []
    },
    {
      "cell_type": "code",
      "metadata": {
        "id": "ZmXHnNv0zYeV"
      },
      "source": [
        "plt.scatter(transformed[y==1][0], transformed[y==1][1], label='Score 1', c='lightblue')\n",
        "plt.scatter(transformed[y==2][0], transformed[y==2][1], label='Score 2', c='green')\n",
        "plt.scatter(transformed[y==3][0], transformed[y==3][1], label='Score 3', c='lightgreen')\n",
        "plt.scatter(transformed[y==4][0], transformed[y==4][1], label='Score 4', c='red')\n",
        "plt.scatter(transformed[y==5][0], transformed[y==5][1], label='Score 5', c='blue')\n",
        "\n",
        "\n",
        "plt.legend()\n",
        "plt.show()"
      ],
      "execution_count": null,
      "outputs": []
    }
  ]
}